{
 "cells": [
  {
   "cell_type": "code",
   "execution_count": 66,
   "id": "a946a614",
   "metadata": {},
   "outputs": [],
   "source": [
    "import pandas as pd\n",
    "import numpy as np\n",
    "from matplotlib import pyplot as plt\n",
    "import seaborn as sns\n",
    "from scipy import stats\n",
    "\n",
    "%matplotlib inline"
   ]
  },
  {
   "cell_type": "code",
   "execution_count": 30,
   "id": "5d87d948",
   "metadata": {},
   "outputs": [],
   "source": [
    "data=pd.read_csv('data.csv')\n",
    "\n"
   ]
  },
  {
   "cell_type": "code",
   "execution_count": 31,
   "id": "2f63382d",
   "metadata": {},
   "outputs": [
    {
     "data": {
      "text/html": [
       "<div>\n",
       "<style scoped>\n",
       "    .dataframe tbody tr th:only-of-type {\n",
       "        vertical-align: middle;\n",
       "    }\n",
       "\n",
       "    .dataframe tbody tr th {\n",
       "        vertical-align: top;\n",
       "    }\n",
       "\n",
       "    .dataframe thead th {\n",
       "        text-align: right;\n",
       "    }\n",
       "</style>\n",
       "<table border=\"1\" class=\"dataframe\">\n",
       "  <thead>\n",
       "    <tr style=\"text-align: right;\">\n",
       "      <th></th>\n",
       "      <th>age</th>\n",
       "      <th>anaemia</th>\n",
       "      <th>diabetes</th>\n",
       "      <th>ejection_fraction</th>\n",
       "      <th>high_blood_pressure</th>\n",
       "      <th>platelets</th>\n",
       "      <th>serum_creatinine</th>\n",
       "      <th>serum_sodium</th>\n",
       "      <th>sex</th>\n",
       "      <th>smoking</th>\n",
       "      <th>DEATH_EVENT</th>\n",
       "    </tr>\n",
       "  </thead>\n",
       "  <tbody>\n",
       "    <tr>\n",
       "      <th>0</th>\n",
       "      <td>75.0</td>\n",
       "      <td>0.0</td>\n",
       "      <td>no</td>\n",
       "      <td>20</td>\n",
       "      <td>yes</td>\n",
       "      <td>265000.00</td>\n",
       "      <td>1.9</td>\n",
       "      <td>130</td>\n",
       "      <td>male</td>\n",
       "      <td>no</td>\n",
       "      <td>1</td>\n",
       "    </tr>\n",
       "    <tr>\n",
       "      <th>1</th>\n",
       "      <td>55.0</td>\n",
       "      <td>0.0</td>\n",
       "      <td>no</td>\n",
       "      <td>38</td>\n",
       "      <td>no</td>\n",
       "      <td>263358.03</td>\n",
       "      <td>1.1</td>\n",
       "      <td>136</td>\n",
       "      <td>male</td>\n",
       "      <td>no</td>\n",
       "      <td>1</td>\n",
       "    </tr>\n",
       "    <tr>\n",
       "      <th>2</th>\n",
       "      <td>65.0</td>\n",
       "      <td>0.0</td>\n",
       "      <td>no</td>\n",
       "      <td>20</td>\n",
       "      <td>no</td>\n",
       "      <td>162000.00</td>\n",
       "      <td>1.3</td>\n",
       "      <td>129</td>\n",
       "      <td>male</td>\n",
       "      <td>yes</td>\n",
       "      <td>1</td>\n",
       "    </tr>\n",
       "    <tr>\n",
       "      <th>3</th>\n",
       "      <td>50.0</td>\n",
       "      <td>1.0</td>\n",
       "      <td>no</td>\n",
       "      <td>20</td>\n",
       "      <td>no</td>\n",
       "      <td>210000.00</td>\n",
       "      <td>1.9</td>\n",
       "      <td>137</td>\n",
       "      <td>male</td>\n",
       "      <td>no</td>\n",
       "      <td>1</td>\n",
       "    </tr>\n",
       "    <tr>\n",
       "      <th>4</th>\n",
       "      <td>65.0</td>\n",
       "      <td>1.0</td>\n",
       "      <td>yes</td>\n",
       "      <td>20</td>\n",
       "      <td>no</td>\n",
       "      <td>327000.00</td>\n",
       "      <td>2.7</td>\n",
       "      <td>116</td>\n",
       "      <td>female</td>\n",
       "      <td>no</td>\n",
       "      <td>1</td>\n",
       "    </tr>\n",
       "  </tbody>\n",
       "</table>\n",
       "</div>"
      ],
      "text/plain": [
       "    age  anaemia diabetes  ejection_fraction high_blood_pressure  platelets  \\\n",
       "0  75.0      0.0       no                 20                 yes  265000.00   \n",
       "1  55.0      0.0       no                 38                  no  263358.03   \n",
       "2  65.0      0.0       no                 20                  no  162000.00   \n",
       "3  50.0      1.0       no                 20                  no  210000.00   \n",
       "4  65.0      1.0      yes                 20                  no  327000.00   \n",
       "\n",
       "   serum_creatinine  serum_sodium     sex smoking  DEATH_EVENT  \n",
       "0               1.9           130    male      no            1  \n",
       "1               1.1           136    male      no            1  \n",
       "2               1.3           129    male     yes            1  \n",
       "3               1.9           137    male      no            1  \n",
       "4               2.7           116  female      no            1  "
      ]
     },
     "execution_count": 31,
     "metadata": {},
     "output_type": "execute_result"
    }
   ],
   "source": [
    "data.head()"
   ]
  },
  {
   "cell_type": "code",
   "execution_count": 32,
   "id": "07329f85",
   "metadata": {},
   "outputs": [
    {
     "name": "stdout",
     "output_type": "stream",
     "text": [
      "<class 'pandas.core.frame.DataFrame'>\n",
      "RangeIndex: 301 entries, 0 to 300\n",
      "Data columns (total 11 columns):\n",
      " #   Column               Non-Null Count  Dtype  \n",
      "---  ------               --------------  -----  \n",
      " 0   age                  301 non-null    float64\n",
      " 1   anaemia              300 non-null    float64\n",
      " 2   diabetes             301 non-null    object \n",
      " 3   ejection_fraction    301 non-null    int64  \n",
      " 4   high_blood_pressure  299 non-null    object \n",
      " 5   platelets            301 non-null    float64\n",
      " 6   serum_creatinine     301 non-null    float64\n",
      " 7   serum_sodium         301 non-null    int64  \n",
      " 8   sex                  298 non-null    object \n",
      " 9   smoking              301 non-null    object \n",
      " 10  DEATH_EVENT          301 non-null    int64  \n",
      "dtypes: float64(4), int64(3), object(4)\n",
      "memory usage: 26.0+ KB\n"
     ]
    }
   ],
   "source": [
    "data.info()"
   ]
  },
  {
   "cell_type": "code",
   "execution_count": 33,
   "id": "10d09501",
   "metadata": {},
   "outputs": [
    {
     "data": {
      "text/plain": [
       "array(['no', 'yes'], dtype=object)"
      ]
     },
     "execution_count": 33,
     "metadata": {},
     "output_type": "execute_result"
    }
   ],
   "source": [
    "data.smoking.unique()"
   ]
  },
  {
   "cell_type": "code",
   "execution_count": 34,
   "id": "8427ac6e",
   "metadata": {},
   "outputs": [
    {
     "data": {
      "text/plain": [
       "age                    0\n",
       "anaemia                1\n",
       "diabetes               0\n",
       "ejection_fraction      0\n",
       "high_blood_pressure    2\n",
       "platelets              0\n",
       "serum_creatinine       0\n",
       "serum_sodium           0\n",
       "sex                    3\n",
       "smoking                0\n",
       "DEATH_EVENT            0\n",
       "dtype: int64"
      ]
     },
     "execution_count": 34,
     "metadata": {},
     "output_type": "execute_result"
    }
   ],
   "source": [
    "data.isnull().sum()"
   ]
  },
  {
   "cell_type": "code",
   "execution_count": 35,
   "id": "c07ff7dd",
   "metadata": {},
   "outputs": [
    {
     "data": {
      "text/html": [
       "<div>\n",
       "<style scoped>\n",
       "    .dataframe tbody tr th:only-of-type {\n",
       "        vertical-align: middle;\n",
       "    }\n",
       "\n",
       "    .dataframe tbody tr th {\n",
       "        vertical-align: top;\n",
       "    }\n",
       "\n",
       "    .dataframe thead th {\n",
       "        text-align: right;\n",
       "    }\n",
       "</style>\n",
       "<table border=\"1\" class=\"dataframe\">\n",
       "  <thead>\n",
       "    <tr style=\"text-align: right;\">\n",
       "      <th></th>\n",
       "      <th>age</th>\n",
       "      <th>anaemia</th>\n",
       "      <th>diabetes</th>\n",
       "      <th>ejection_fraction</th>\n",
       "      <th>high_blood_pressure</th>\n",
       "      <th>platelets</th>\n",
       "      <th>serum_creatinine</th>\n",
       "      <th>serum_sodium</th>\n",
       "      <th>sex</th>\n",
       "      <th>smoking</th>\n",
       "      <th>DEATH_EVENT</th>\n",
       "    </tr>\n",
       "  </thead>\n",
       "  <tbody>\n",
       "    <tr>\n",
       "      <th>230</th>\n",
       "      <td>60.0</td>\n",
       "      <td>0.0</td>\n",
       "      <td>no</td>\n",
       "      <td>30</td>\n",
       "      <td>NaN</td>\n",
       "      <td>62000.0</td>\n",
       "      <td>1.7</td>\n",
       "      <td>127</td>\n",
       "      <td>female</td>\n",
       "      <td>no</td>\n",
       "      <td>1</td>\n",
       "    </tr>\n",
       "    <tr>\n",
       "      <th>291</th>\n",
       "      <td>60.0</td>\n",
       "      <td>0.0</td>\n",
       "      <td>no</td>\n",
       "      <td>35</td>\n",
       "      <td>NaN</td>\n",
       "      <td>133000.0</td>\n",
       "      <td>1.4</td>\n",
       "      <td>139</td>\n",
       "      <td>male</td>\n",
       "      <td>no</td>\n",
       "      <td>0</td>\n",
       "    </tr>\n",
       "  </tbody>\n",
       "</table>\n",
       "</div>"
      ],
      "text/plain": [
       "      age  anaemia diabetes  ejection_fraction high_blood_pressure  platelets  \\\n",
       "230  60.0      0.0       no                 30                 NaN    62000.0   \n",
       "291  60.0      0.0       no                 35                 NaN   133000.0   \n",
       "\n",
       "     serum_creatinine  serum_sodium     sex smoking  DEATH_EVENT  \n",
       "230               1.7           127  female      no            1  \n",
       "291               1.4           139    male      no            0  "
      ]
     },
     "execution_count": 35,
     "metadata": {},
     "output_type": "execute_result"
    }
   ],
   "source": [
    "data[data['high_blood_pressure'].isnull()]"
   ]
  },
  {
   "cell_type": "code",
   "execution_count": 36,
   "id": "8248521f",
   "metadata": {},
   "outputs": [],
   "source": [
    "data=data.dropna()"
   ]
  },
  {
   "cell_type": "code",
   "execution_count": 37,
   "id": "2a3961e7",
   "metadata": {},
   "outputs": [
    {
     "data": {
      "text/plain": [
       "age                    0\n",
       "anaemia                0\n",
       "diabetes               0\n",
       "ejection_fraction      0\n",
       "high_blood_pressure    0\n",
       "platelets              0\n",
       "serum_creatinine       0\n",
       "serum_sodium           0\n",
       "sex                    0\n",
       "smoking                0\n",
       "DEATH_EVENT            0\n",
       "dtype: int64"
      ]
     },
     "execution_count": 37,
     "metadata": {},
     "output_type": "execute_result"
    }
   ],
   "source": [
    "data.isnull().sum()\n"
   ]
  },
  {
   "cell_type": "code",
   "execution_count": 38,
   "id": "7aaaedb1",
   "metadata": {},
   "outputs": [
    {
     "data": {
      "text/plain": [
       "<AxesSubplot:xlabel='ejection_fraction'>"
      ]
     },
     "execution_count": 38,
     "metadata": {},
     "output_type": "execute_result"
    },
    {
     "data": {
      "image/png": "[encoded data removed]",
      "text/plain": [
       "<Figure size 432x288 with 1 Axes>"
      ]
     },
     "metadata": {
      "needs_background": "light"
     },
     "output_type": "display_data"
    }
   ],
   "source": [
    "sns.boxplot(x=data['ejection_fraction'])"
   ]
  },
  {
   "cell_type": "code",
   "execution_count": 24,
   "id": "cd67cd1c",
   "metadata": {},
   "outputs": [],
   "source": [
    "from sklearn.preprocessing import LabelEncoder\n",
    "\n",
    "le=LabelEncoder()\n",
    "data['diabetes']=le.fit(data['diabetes']).transform(data['diabetes'])\n",
    "data['high_blood_pressure']=le.fit(data['high_blood_pressure']).transform(data['high_blood_pressure'])\n",
    "data['sex']=le.fit(data['sex']).transform(data['sex'])\n",
    "data['smoking']=le.fit(data['smoking']).transform(data['smoking'])"
   ]
  },
  {
   "cell_type": "code",
   "execution_count": 25,
   "id": "7ff0fcce",
   "metadata": {},
   "outputs": [
    {
     "data": {
      "text/html": [
       "<div>\n",
       "<style scoped>\n",
       "    .dataframe tbody tr th:only-of-type {\n",
       "        vertical-align: middle;\n",
       "    }\n",
       "\n",
       "    .dataframe tbody tr th {\n",
       "        vertical-align: top;\n",
       "    }\n",
       "\n",
       "    .dataframe thead th {\n",
       "        text-align: right;\n",
       "    }\n",
       "</style>\n",
       "<table border=\"1\" class=\"dataframe\">\n",
       "  <thead>\n",
       "    <tr style=\"text-align: right;\">\n",
       "      <th></th>\n",
       "      <th>age</th>\n",
       "      <th>anaemia</th>\n",
       "      <th>diabetes</th>\n",
       "      <th>ejection_fraction</th>\n",
       "      <th>high_blood_pressure</th>\n",
       "      <th>platelets</th>\n",
       "      <th>serum_creatinine</th>\n",
       "      <th>serum_sodium</th>\n",
       "      <th>sex</th>\n",
       "      <th>smoking</th>\n",
       "      <th>DEATH_EVENT</th>\n",
       "    </tr>\n",
       "  </thead>\n",
       "  <tbody>\n",
       "    <tr>\n",
       "      <th>0</th>\n",
       "      <td>75.0</td>\n",
       "      <td>0.0</td>\n",
       "      <td>0</td>\n",
       "      <td>20</td>\n",
       "      <td>1</td>\n",
       "      <td>265000.00</td>\n",
       "      <td>1.9</td>\n",
       "      <td>130</td>\n",
       "      <td>1</td>\n",
       "      <td>0</td>\n",
       "      <td>1</td>\n",
       "    </tr>\n",
       "    <tr>\n",
       "      <th>1</th>\n",
       "      <td>55.0</td>\n",
       "      <td>0.0</td>\n",
       "      <td>0</td>\n",
       "      <td>38</td>\n",
       "      <td>0</td>\n",
       "      <td>263358.03</td>\n",
       "      <td>1.1</td>\n",
       "      <td>136</td>\n",
       "      <td>1</td>\n",
       "      <td>0</td>\n",
       "      <td>1</td>\n",
       "    </tr>\n",
       "    <tr>\n",
       "      <th>2</th>\n",
       "      <td>65.0</td>\n",
       "      <td>0.0</td>\n",
       "      <td>0</td>\n",
       "      <td>20</td>\n",
       "      <td>0</td>\n",
       "      <td>162000.00</td>\n",
       "      <td>1.3</td>\n",
       "      <td>129</td>\n",
       "      <td>1</td>\n",
       "      <td>1</td>\n",
       "      <td>1</td>\n",
       "    </tr>\n",
       "    <tr>\n",
       "      <th>3</th>\n",
       "      <td>50.0</td>\n",
       "      <td>1.0</td>\n",
       "      <td>0</td>\n",
       "      <td>20</td>\n",
       "      <td>0</td>\n",
       "      <td>210000.00</td>\n",
       "      <td>1.9</td>\n",
       "      <td>137</td>\n",
       "      <td>1</td>\n",
       "      <td>0</td>\n",
       "      <td>1</td>\n",
       "    </tr>\n",
       "    <tr>\n",
       "      <th>4</th>\n",
       "      <td>65.0</td>\n",
       "      <td>1.0</td>\n",
       "      <td>1</td>\n",
       "      <td>20</td>\n",
       "      <td>0</td>\n",
       "      <td>327000.00</td>\n",
       "      <td>2.7</td>\n",
       "      <td>116</td>\n",
       "      <td>0</td>\n",
       "      <td>0</td>\n",
       "      <td>1</td>\n",
       "    </tr>\n",
       "  </tbody>\n",
       "</table>\n",
       "</div>"
      ],
      "text/plain": [
       "    age  anaemia  diabetes  ejection_fraction  high_blood_pressure  platelets  \\\n",
       "0  75.0      0.0         0                 20                    1  265000.00   \n",
       "1  55.0      0.0         0                 38                    0  263358.03   \n",
       "2  65.0      0.0         0                 20                    0  162000.00   \n",
       "3  50.0      1.0         0                 20                    0  210000.00   \n",
       "4  65.0      1.0         1                 20                    0  327000.00   \n",
       "\n",
       "   serum_creatinine  serum_sodium  sex  smoking  DEATH_EVENT  \n",
       "0               1.9           130    1        0            1  \n",
       "1               1.1           136    1        0            1  \n",
       "2               1.3           129    1        1            1  \n",
       "3               1.9           137    1        0            1  \n",
       "4               2.7           116    0        0            1  "
      ]
     },
     "execution_count": 25,
     "metadata": {},
     "output_type": "execute_result"
    }
   ],
   "source": [
    "data.head()"
   ]
  },
  {
   "cell_type": "code",
   "execution_count": 26,
   "id": "b8d40a01",
   "metadata": {},
   "outputs": [
    {
     "data": {
      "text/html": [
       "<div>\n",
       "<style scoped>\n",
       "    .dataframe tbody tr th:only-of-type {\n",
       "        vertical-align: middle;\n",
       "    }\n",
       "\n",
       "    .dataframe tbody tr th {\n",
       "        vertical-align: top;\n",
       "    }\n",
       "\n",
       "    .dataframe thead th {\n",
       "        text-align: right;\n",
       "    }\n",
       "</style>\n",
       "<table border=\"1\" class=\"dataframe\">\n",
       "  <thead>\n",
       "    <tr style=\"text-align: right;\">\n",
       "      <th></th>\n",
       "      <th>age</th>\n",
       "      <th>anaemia</th>\n",
       "      <th>diabetes</th>\n",
       "      <th>ejection_fraction</th>\n",
       "      <th>high_blood_pressure</th>\n",
       "      <th>platelets</th>\n",
       "      <th>serum_creatinine</th>\n",
       "      <th>serum_sodium</th>\n",
       "      <th>sex</th>\n",
       "      <th>smoking</th>\n",
       "      <th>DEATH_EVENT</th>\n",
       "    </tr>\n",
       "  </thead>\n",
       "  <tbody>\n",
       "    <tr>\n",
       "      <th>age</th>\n",
       "      <td>1.000000</td>\n",
       "      <td>0.073457</td>\n",
       "      <td>-0.109623</td>\n",
       "      <td>0.047537</td>\n",
       "      <td>0.087098</td>\n",
       "      <td>-0.060164</td>\n",
       "      <td>0.144649</td>\n",
       "      <td>-0.047961</td>\n",
       "      <td>0.066271</td>\n",
       "      <td>0.017273</td>\n",
       "      <td>0.252587</td>\n",
       "    </tr>\n",
       "    <tr>\n",
       "      <th>anaemia</th>\n",
       "      <td>0.073457</td>\n",
       "      <td>1.000000</td>\n",
       "      <td>-0.021193</td>\n",
       "      <td>0.020037</td>\n",
       "      <td>0.021770</td>\n",
       "      <td>-0.058352</td>\n",
       "      <td>0.038628</td>\n",
       "      <td>0.033868</td>\n",
       "      <td>-0.099763</td>\n",
       "      <td>-0.116385</td>\n",
       "      <td>0.063718</td>\n",
       "    </tr>\n",
       "    <tr>\n",
       "      <th>diabetes</th>\n",
       "      <td>-0.109623</td>\n",
       "      <td>-0.021193</td>\n",
       "      <td>1.000000</td>\n",
       "      <td>-0.016826</td>\n",
       "      <td>-0.011075</td>\n",
       "      <td>0.079934</td>\n",
       "      <td>-0.046824</td>\n",
       "      <td>-0.098894</td>\n",
       "      <td>-0.153058</td>\n",
       "      <td>-0.136311</td>\n",
       "      <td>-0.000549</td>\n",
       "    </tr>\n",
       "    <tr>\n",
       "      <th>ejection_fraction</th>\n",
       "      <td>0.047537</td>\n",
       "      <td>0.020037</td>\n",
       "      <td>-0.016826</td>\n",
       "      <td>1.000000</td>\n",
       "      <td>0.016296</td>\n",
       "      <td>0.060899</td>\n",
       "      <td>-0.015169</td>\n",
       "      <td>0.162200</td>\n",
       "      <td>-0.147320</td>\n",
       "      <td>-0.073104</td>\n",
       "      <td>-0.262015</td>\n",
       "    </tr>\n",
       "    <tr>\n",
       "      <th>high_blood_pressure</th>\n",
       "      <td>0.087098</td>\n",
       "      <td>0.021770</td>\n",
       "      <td>-0.011075</td>\n",
       "      <td>0.016296</td>\n",
       "      <td>1.000000</td>\n",
       "      <td>0.023522</td>\n",
       "      <td>-0.015774</td>\n",
       "      <td>0.042833</td>\n",
       "      <td>-0.099546</td>\n",
       "      <td>-0.058213</td>\n",
       "      <td>0.079617</td>\n",
       "    </tr>\n",
       "    <tr>\n",
       "      <th>platelets</th>\n",
       "      <td>-0.060164</td>\n",
       "      <td>-0.058352</td>\n",
       "      <td>0.079934</td>\n",
       "      <td>0.060899</td>\n",
       "      <td>0.023522</td>\n",
       "      <td>1.000000</td>\n",
       "      <td>-0.046246</td>\n",
       "      <td>0.043693</td>\n",
       "      <td>-0.130943</td>\n",
       "      <td>0.009077</td>\n",
       "      <td>-0.036099</td>\n",
       "    </tr>\n",
       "    <tr>\n",
       "      <th>serum_creatinine</th>\n",
       "      <td>0.144649</td>\n",
       "      <td>0.038628</td>\n",
       "      <td>-0.046824</td>\n",
       "      <td>-0.015169</td>\n",
       "      <td>-0.015774</td>\n",
       "      <td>-0.046246</td>\n",
       "      <td>1.000000</td>\n",
       "      <td>-0.185528</td>\n",
       "      <td>-0.000015</td>\n",
       "      <td>-0.044083</td>\n",
       "      <td>0.289539</td>\n",
       "    </tr>\n",
       "    <tr>\n",
       "      <th>serum_sodium</th>\n",
       "      <td>-0.047961</td>\n",
       "      <td>0.033868</td>\n",
       "      <td>-0.098894</td>\n",
       "      <td>0.162200</td>\n",
       "      <td>0.042833</td>\n",
       "      <td>0.043693</td>\n",
       "      <td>-0.185528</td>\n",
       "      <td>1.000000</td>\n",
       "      <td>-0.029404</td>\n",
       "      <td>0.004956</td>\n",
       "      <td>-0.172186</td>\n",
       "    </tr>\n",
       "    <tr>\n",
       "      <th>sex</th>\n",
       "      <td>0.066271</td>\n",
       "      <td>-0.099763</td>\n",
       "      <td>-0.153058</td>\n",
       "      <td>-0.147320</td>\n",
       "      <td>-0.099546</td>\n",
       "      <td>-0.130943</td>\n",
       "      <td>-0.000015</td>\n",
       "      <td>-0.029404</td>\n",
       "      <td>1.000000</td>\n",
       "      <td>0.448009</td>\n",
       "      <td>-0.008094</td>\n",
       "    </tr>\n",
       "    <tr>\n",
       "      <th>smoking</th>\n",
       "      <td>0.017273</td>\n",
       "      <td>-0.116385</td>\n",
       "      <td>-0.136311</td>\n",
       "      <td>-0.073104</td>\n",
       "      <td>-0.058213</td>\n",
       "      <td>0.009077</td>\n",
       "      <td>-0.044083</td>\n",
       "      <td>0.004956</td>\n",
       "      <td>0.448009</td>\n",
       "      <td>1.000000</td>\n",
       "      <td>-0.019689</td>\n",
       "    </tr>\n",
       "    <tr>\n",
       "      <th>DEATH_EVENT</th>\n",
       "      <td>0.252587</td>\n",
       "      <td>0.063718</td>\n",
       "      <td>-0.000549</td>\n",
       "      <td>-0.262015</td>\n",
       "      <td>0.079617</td>\n",
       "      <td>-0.036099</td>\n",
       "      <td>0.289539</td>\n",
       "      <td>-0.172186</td>\n",
       "      <td>-0.008094</td>\n",
       "      <td>-0.019689</td>\n",
       "      <td>1.000000</td>\n",
       "    </tr>\n",
       "  </tbody>\n",
       "</table>\n",
       "</div>"
      ],
      "text/plain": [
       "                          age   anaemia  diabetes  ejection_fraction  \\\n",
       "age                  1.000000  0.073457 -0.109623           0.047537   \n",
       "anaemia              0.073457  1.000000 -0.021193           0.020037   \n",
       "diabetes            -0.109623 -0.021193  1.000000          -0.016826   \n",
       "ejection_fraction    0.047537  0.020037 -0.016826           1.000000   \n",
       "high_blood_pressure  0.087098  0.021770 -0.011075           0.016296   \n",
       "platelets           -0.060164 -0.058352  0.079934           0.060899   \n",
       "serum_creatinine     0.144649  0.038628 -0.046824          -0.015169   \n",
       "serum_sodium        -0.047961  0.033868 -0.098894           0.162200   \n",
       "sex                  0.066271 -0.099763 -0.153058          -0.147320   \n",
       "smoking              0.017273 -0.116385 -0.136311          -0.073104   \n",
       "DEATH_EVENT          0.252587  0.063718 -0.000549          -0.262015   \n",
       "\n",
       "                     high_blood_pressure  platelets  serum_creatinine  \\\n",
       "age                             0.087098  -0.060164          0.144649   \n",
       "anaemia                         0.021770  -0.058352          0.038628   \n",
       "diabetes                       -0.011075   0.079934         -0.046824   \n",
       "ejection_fraction               0.016296   0.060899         -0.015169   \n",
       "high_blood_pressure             1.000000   0.023522         -0.015774   \n",
       "platelets                       0.023522   1.000000         -0.046246   \n",
       "serum_creatinine               -0.015774  -0.046246          1.000000   \n",
       "serum_sodium                    0.042833   0.043693         -0.185528   \n",
       "sex                            -0.099546  -0.130943         -0.000015   \n",
       "smoking                        -0.058213   0.009077         -0.044083   \n",
       "DEATH_EVENT                     0.079617  -0.036099          0.289539   \n",
       "\n",
       "                     serum_sodium       sex   smoking  DEATH_EVENT  \n",
       "age                     -0.047961  0.066271  0.017273     0.252587  \n",
       "anaemia                  0.033868 -0.099763 -0.116385     0.063718  \n",
       "diabetes                -0.098894 -0.153058 -0.136311    -0.000549  \n",
       "ejection_fraction        0.162200 -0.147320 -0.073104    -0.262015  \n",
       "high_blood_pressure      0.042833 -0.099546 -0.058213     0.079617  \n",
       "platelets                0.043693 -0.130943  0.009077    -0.036099  \n",
       "serum_creatinine        -0.185528 -0.000015 -0.044083     0.289539  \n",
       "serum_sodium             1.000000 -0.029404  0.004956    -0.172186  \n",
       "sex                     -0.029404  1.000000  0.448009    -0.008094  \n",
       "smoking                  0.004956  0.448009  1.000000    -0.019689  \n",
       "DEATH_EVENT             -0.172186 -0.008094 -0.019689     1.000000  "
      ]
     },
     "execution_count": 26,
     "metadata": {},
     "output_type": "execute_result"
    }
   ],
   "source": [
    "data.corr()"
   ]
  },
  {
   "cell_type": "code",
   "execution_count": 39,
   "id": "812a692c",
   "metadata": {},
   "outputs": [],
   "source": [
    "from sklearn.preprocessing import OneHotEncoder\n",
    "\n",
    "enc=OneHotEncoder()\n",
    "\n",
    "dataEncoded=enc.fit(data[['diabetes','high_blood_pressure','sex','smoking']]).transform(data[['diabetes','high_blood_pressure','sex','smoking']])"
   ]
  },
  {
   "cell_type": "code",
   "execution_count": 43,
   "id": "0080f600",
   "metadata": {},
   "outputs": [],
   "source": [
    "temp=pd.DataFrame(dataEncoded.toarray(),columns=enc.get_feature_names())"
   ]
  },
  {
   "cell_type": "code",
   "execution_count": 46,
   "id": "2e01cd43",
   "metadata": {},
   "outputs": [],
   "source": [
    "newDf=pd.concat([temp,data[['age', 'anaemia',  'ejection_fraction',\n",
    "        'platelets', 'serum_creatinine', 'serum_sodium',\n",
    "        'DEATH_EVENT']]], axis=1, join='inner')"
   ]
  },
  {
   "cell_type": "code",
   "execution_count": 47,
   "id": "31f06da3",
   "metadata": {},
   "outputs": [
    {
     "data": {
      "text/html": [
       "<div>\n",
       "<style scoped>\n",
       "    .dataframe tbody tr th:only-of-type {\n",
       "        vertical-align: middle;\n",
       "    }\n",
       "\n",
       "    .dataframe tbody tr th {\n",
       "        vertical-align: top;\n",
       "    }\n",
       "\n",
       "    .dataframe thead th {\n",
       "        text-align: right;\n",
       "    }\n",
       "</style>\n",
       "<table border=\"1\" class=\"dataframe\">\n",
       "  <thead>\n",
       "    <tr style=\"text-align: right;\">\n",
       "      <th></th>\n",
       "      <th>x0_no</th>\n",
       "      <th>x0_yes</th>\n",
       "      <th>x1_no</th>\n",
       "      <th>x1_yes</th>\n",
       "      <th>x2_female</th>\n",
       "      <th>x2_male</th>\n",
       "      <th>x3_no</th>\n",
       "      <th>x3_yes</th>\n",
       "      <th>age</th>\n",
       "      <th>anaemia</th>\n",
       "      <th>ejection_fraction</th>\n",
       "      <th>platelets</th>\n",
       "      <th>serum_creatinine</th>\n",
       "      <th>serum_sodium</th>\n",
       "      <th>DEATH_EVENT</th>\n",
       "    </tr>\n",
       "  </thead>\n",
       "  <tbody>\n",
       "    <tr>\n",
       "      <th>0</th>\n",
       "      <td>1.0</td>\n",
       "      <td>0.0</td>\n",
       "      <td>0.0</td>\n",
       "      <td>1.0</td>\n",
       "      <td>0.0</td>\n",
       "      <td>1.0</td>\n",
       "      <td>1.0</td>\n",
       "      <td>0.0</td>\n",
       "      <td>75.0</td>\n",
       "      <td>0.0</td>\n",
       "      <td>20</td>\n",
       "      <td>265000.00</td>\n",
       "      <td>1.9</td>\n",
       "      <td>130</td>\n",
       "      <td>1</td>\n",
       "    </tr>\n",
       "    <tr>\n",
       "      <th>1</th>\n",
       "      <td>1.0</td>\n",
       "      <td>0.0</td>\n",
       "      <td>1.0</td>\n",
       "      <td>0.0</td>\n",
       "      <td>0.0</td>\n",
       "      <td>1.0</td>\n",
       "      <td>1.0</td>\n",
       "      <td>0.0</td>\n",
       "      <td>55.0</td>\n",
       "      <td>0.0</td>\n",
       "      <td>38</td>\n",
       "      <td>263358.03</td>\n",
       "      <td>1.1</td>\n",
       "      <td>136</td>\n",
       "      <td>1</td>\n",
       "    </tr>\n",
       "    <tr>\n",
       "      <th>2</th>\n",
       "      <td>1.0</td>\n",
       "      <td>0.0</td>\n",
       "      <td>1.0</td>\n",
       "      <td>0.0</td>\n",
       "      <td>0.0</td>\n",
       "      <td>1.0</td>\n",
       "      <td>0.0</td>\n",
       "      <td>1.0</td>\n",
       "      <td>65.0</td>\n",
       "      <td>0.0</td>\n",
       "      <td>20</td>\n",
       "      <td>162000.00</td>\n",
       "      <td>1.3</td>\n",
       "      <td>129</td>\n",
       "      <td>1</td>\n",
       "    </tr>\n",
       "    <tr>\n",
       "      <th>3</th>\n",
       "      <td>1.0</td>\n",
       "      <td>0.0</td>\n",
       "      <td>1.0</td>\n",
       "      <td>0.0</td>\n",
       "      <td>0.0</td>\n",
       "      <td>1.0</td>\n",
       "      <td>1.0</td>\n",
       "      <td>0.0</td>\n",
       "      <td>50.0</td>\n",
       "      <td>1.0</td>\n",
       "      <td>20</td>\n",
       "      <td>210000.00</td>\n",
       "      <td>1.9</td>\n",
       "      <td>137</td>\n",
       "      <td>1</td>\n",
       "    </tr>\n",
       "    <tr>\n",
       "      <th>4</th>\n",
       "      <td>0.0</td>\n",
       "      <td>1.0</td>\n",
       "      <td>1.0</td>\n",
       "      <td>0.0</td>\n",
       "      <td>1.0</td>\n",
       "      <td>0.0</td>\n",
       "      <td>1.0</td>\n",
       "      <td>0.0</td>\n",
       "      <td>65.0</td>\n",
       "      <td>1.0</td>\n",
       "      <td>20</td>\n",
       "      <td>327000.00</td>\n",
       "      <td>2.7</td>\n",
       "      <td>116</td>\n",
       "      <td>1</td>\n",
       "    </tr>\n",
       "  </tbody>\n",
       "</table>\n",
       "</div>"
      ],
      "text/plain": [
       "   x0_no  x0_yes  x1_no  x1_yes  x2_female  x2_male  x3_no  x3_yes   age  \\\n",
       "0    1.0     0.0    0.0     1.0        0.0      1.0    1.0     0.0  75.0   \n",
       "1    1.0     0.0    1.0     0.0        0.0      1.0    1.0     0.0  55.0   \n",
       "2    1.0     0.0    1.0     0.0        0.0      1.0    0.0     1.0  65.0   \n",
       "3    1.0     0.0    1.0     0.0        0.0      1.0    1.0     0.0  50.0   \n",
       "4    0.0     1.0    1.0     0.0        1.0      0.0    1.0     0.0  65.0   \n",
       "\n",
       "   anaemia  ejection_fraction  platelets  serum_creatinine  serum_sodium  \\\n",
       "0      0.0                 20  265000.00               1.9           130   \n",
       "1      0.0                 38  263358.03               1.1           136   \n",
       "2      0.0                 20  162000.00               1.3           129   \n",
       "3      1.0                 20  210000.00               1.9           137   \n",
       "4      1.0                 20  327000.00               2.7           116   \n",
       "\n",
       "   DEATH_EVENT  \n",
       "0            1  \n",
       "1            1  \n",
       "2            1  \n",
       "3            1  \n",
       "4            1  "
      ]
     },
     "execution_count": 47,
     "metadata": {},
     "output_type": "execute_result"
    }
   ],
   "source": [
    "newDf.head()"
   ]
  },
  {
   "cell_type": "code",
   "execution_count": 51,
   "id": "2746db3e",
   "metadata": {},
   "outputs": [],
   "source": [
    "X,Y=newDf[['x0_no', 'x0_yes', 'x1_no', 'x1_yes', 'x2_female', 'x2_male', 'x3_no',\n",
    "       'x3_yes', 'age', 'anaemia', 'ejection_fraction', 'platelets',\n",
    "       'serum_creatinine', 'serum_sodium']], newDf['DEATH_EVENT']"
   ]
  },
  {
   "cell_type": "code",
   "execution_count": 52,
   "id": "7181a28b",
   "metadata": {},
   "outputs": [],
   "source": [
    "from sklearn.model_selection import train_test_split\n",
    "\n",
    "X_train, X_test, Y_train, y_test=train_test_split(X,Y, test_size=.33, random_state=42)\n"
   ]
  },
  {
   "cell_type": "code",
   "execution_count": 55,
   "id": "36888541",
   "metadata": {},
   "outputs": [
    {
     "data": {
      "text/plain": [
       "KNeighborsClassifier()"
      ]
     },
     "execution_count": 55,
     "metadata": {},
     "output_type": "execute_result"
    }
   ],
   "source": [
    "from sklearn.neighbors import KNeighborsClassifier\n",
    "\n",
    "model=KNeighborsClassifier(n_neighbors=5)\n",
    "\n",
    "model.fit(X_train,Y_train)"
   ]
  },
  {
   "cell_type": "code",
   "execution_count": 56,
   "id": "85b963d2",
   "metadata": {},
   "outputs": [],
   "source": [
    "predicted=model.predict(X_test)"
   ]
  },
  {
   "cell_type": "code",
   "execution_count": 57,
   "id": "c59567d5",
   "metadata": {},
   "outputs": [
    {
     "data": {
      "text/plain": [
       "array([0, 0, 0, 1, 0, 1, 0, 0, 0, 0, 0, 0, 1, 1, 1, 0, 0, 0, 0, 0, 1, 0,\n",
       "       1, 0, 0, 0, 0, 0, 0, 0, 0, 1, 0, 0, 1, 0, 0, 0, 0, 0, 0, 0, 0, 1,\n",
       "       1, 1, 1, 0, 0, 0, 0, 0, 0, 0, 0, 1, 0, 0, 0, 0, 0, 0, 0, 0, 0, 0,\n",
       "       0, 0, 0, 0, 0, 0, 0, 0, 0, 0, 0, 0, 0, 0, 0, 1, 0, 0, 0, 0, 0, 0,\n",
       "       0, 0, 0, 0, 1, 0, 1, 0], dtype=int64)"
      ]
     },
     "execution_count": 57,
     "metadata": {},
     "output_type": "execute_result"
    }
   ],
   "source": [
    "predicted"
   ]
  },
  {
   "cell_type": "code",
   "execution_count": 61,
   "id": "f8b8f7cc",
   "metadata": {},
   "outputs": [
    {
     "data": {
      "text/plain": [
       "0.71"
      ]
     },
     "execution_count": 61,
     "metadata": {},
     "output_type": "execute_result"
    }
   ],
   "source": [
    "errors =abs(predicted - y_test)\n",
    "\n",
    "1-round(np.mean(errors),2)"
   ]
  },
  {
   "cell_type": "code",
   "execution_count": 62,
   "id": "15152955",
   "metadata": {},
   "outputs": [],
   "source": [
    "from sklearn.metrics import confusion_matrix\n",
    "\n",
    "cm=confusion_matrix(y_test,predicted)"
   ]
  },
  {
   "cell_type": "code",
   "execution_count": 63,
   "id": "9f07849e",
   "metadata": {},
   "outputs": [
    {
     "data": {
      "text/plain": [
       "array([[59,  8],\n",
       "       [20,  9]], dtype=int64)"
      ]
     },
     "execution_count": 63,
     "metadata": {},
     "output_type": "execute_result"
    }
   ],
   "source": [
    "cm"
   ]
  },
  {
   "cell_type": "code",
   "execution_count": 67,
   "id": "d6737853",
   "metadata": {},
   "outputs": [
    {
     "data": {
      "image/png": "[encoded data removed]",
      "text/plain": [
       "<Figure size 432x288 with 1 Axes>"
      ]
     },
     "metadata": {
      "needs_background": "light"
     },
     "output_type": "display_data"
    }
   ],
   "source": [
    "plt.clf()\n",
    "plt.imshow(cm, interpolation='nearest', cmap=plt.cm.Wistia)\n",
    "classNames = ['Negative','Positive']\n",
    "plt.title('Versicolor or Not Versicolor Confusion Matrix - Test Data')\n",
    "plt.ylabel('True label')\n",
    "plt.xlabel('Predicted label')\n",
    "tick_marks = np.arange(len(classNames))\n",
    "plt.xticks(tick_marks, classNames, rotation=45)\n",
    "plt.yticks(tick_marks, classNames)\n",
    "s = [['TN','FP'], ['FN', 'TP']]\n",
    "for i in range(2):\n",
    "    for j in range(2):\n",
    "        plt.text(j,i, str(s[i][j])+\" = \"+str(cm[i][j]))\n",
    "plt.show()"
   ]
  },
  {
   "cell_type": "code",
   "execution_count": null,
   "id": "c0a209d7",
   "metadata": {},
   "outputs": [],
   "source": []
  }
 ],
 "metadata": {
  "kernelspec": {
   "display_name": "Python [conda env:tfenv]",
   "language": "python",
   "name": "conda-env-tfenv-py"
  },
  "language_info": {
   "codemirror_mode": {
    "name": "ipython",
    "version": 3
   },
   "file_extension": ".py",
   "mimetype": "text/x-python",
   "name": "python",
   "nbconvert_exporter": "python",
   "pygments_lexer": "ipython3",
   "version": "3.7.10"
  }
 },
 "nbformat": 4,
 "nbformat_minor": 5
}
